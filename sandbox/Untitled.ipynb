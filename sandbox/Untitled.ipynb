{
 "cells": [
  {
   "cell_type": "markdown",
   "id": "c58f602a",
   "metadata": {},
   "source": [
    "# Fiber-views example \n",
    "\n",
    "here is an example of fiber-views\n"
   ]
  },
  {
   "cell_type": "code",
   "execution_count": 1,
   "id": "61a53d66",
   "metadata": {},
   "outputs": [],
   "source": [
    "import numpy as np\n",
    "import pandas as pd\n",
    "\n",
    "import os\n",
    "import seaborn as sns\n",
    "import matplotlib.pyplot as plt\n",
    "import fiber_views as fv\n",
    "import pysam\n",
    "\n",
    "import anndata as ad\n",
    "from scipy.sparse import csr_matrix, coo_matrix, vstack\n",
    "\n",
    "os.chdir(os.path.expanduser(\"~/git/fiber_views\"))\n"
   ]
  },
  {
   "cell_type": "code",
   "execution_count": 2,
   "id": "2bc3d9eb",
   "metadata": {},
   "outputs": [
    {
     "name": "stderr",
     "output_type": "stream",
     "text": [
      "[W::hts_idx_load3] The index file is older than the data file: local/aligned.fiberseq.chr3_trunc.bam.bai\n"
     ]
    }
   ],
   "source": [
    "bamfile = pysam.AlignmentFile(\"local/aligned.fiberseq.chr3_trunc.bam\", \"rb\")"
   ]
  },
  {
   "cell_type": "code",
   "execution_count": 3,
   "id": "de75bf9f",
   "metadata": {},
   "outputs": [
    {
     "name": "stderr",
     "output_type": "stream",
     "text": [
      "/home/morgan/git/fiber_views/fiber_views/utils.py:566: FutureWarning: DataFrame.set_axis 'inplace' keyword is deprecated and will be removed in a future version. Use `obj = obj.set_axis(..., copy=False)` instead\n",
      "  bed_data.set_axis(BED_HEADER[0:bed_data.shape[1]], axis=1, inplace=True)\n"
     ]
    }
   ],
   "source": [
    "bed_data = fv.read_bed('local/TAIR10_genes.bed')\n",
    "# bed_data.query('not chrom in [\"chrC\", \"chrM\"]', inplace=True)\n",
    "\n",
    "\n",
    "anno_df = fv.bed_to_anno_df(bed_data)\n",
    "anno_df.query('seqid == \"chr3\" & pos < 200000', inplace=True) \n",
    "\n"
   ]
  },
  {
   "cell_type": "code",
   "execution_count": 4,
   "id": "57d29eae",
   "metadata": {},
   "outputs": [
    {
     "name": "stdout",
     "output_type": "stream",
     "text": [
      "11979\n"
     ]
    },
    {
     "name": "stderr",
     "output_type": "stream",
     "text": [
      "[W::hts_idx_load3] The index file is older than the data file: local/aligned.fiberseq.chr3_trunc.bam.bai\n",
      "[E::bam_parse_basemod] Insufficient number of entries in ML tag\n",
      "[E::bam_parse_basemod] Insufficient number of entries in ML tag\n"
     ]
    },
    {
     "name": "stdout",
     "output_type": "stream",
     "text": [
      "11980\n"
     ]
    },
    {
     "name": "stderr",
     "output_type": "stream",
     "text": [
      "[W::hts_idx_load3] The index file is older than the data file: local/aligned.fiberseq.chr3_trunc.bam.bai\n",
      "[E::bam_parse_basemod] Insufficient number of entries in ML tag\n",
      "[E::bam_parse_basemod] Insufficient number of entries in ML tag\n"
     ]
    },
    {
     "name": "stdout",
     "output_type": "stream",
     "text": [
      "11981\n"
     ]
    },
    {
     "name": "stderr",
     "output_type": "stream",
     "text": [
      "[W::hts_idx_load3] The index file is older than the data file: local/aligned.fiberseq.chr3_trunc.bam.bai\n",
      "[E::bam_parse_basemod] Insufficient number of entries in ML tag\n",
      "[E::bam_parse_basemod] Insufficient number of entries in ML tag\n",
      "[E::bam_parse_basemod] Insufficient number of entries in ML tag\n"
     ]
    },
    {
     "name": "stdout",
     "output_type": "stream",
     "text": [
      "11982\n"
     ]
    },
    {
     "name": "stderr",
     "output_type": "stream",
     "text": [
      "[W::hts_idx_load3] The index file is older than the data file: local/aligned.fiberseq.chr3_trunc.bam.bai\n",
      "[E::bam_parse_basemod] Insufficient number of entries in ML tag\n",
      "[E::bam_parse_basemod] Insufficient number of entries in ML tag\n",
      "[E::bam_parse_basemod] Insufficient number of entries in ML tag\n"
     ]
    },
    {
     "name": "stdout",
     "output_type": "stream",
     "text": [
      "11983\n"
     ]
    },
    {
     "name": "stderr",
     "output_type": "stream",
     "text": [
      "[W::hts_idx_load3] The index file is older than the data file: local/aligned.fiberseq.chr3_trunc.bam.bai\n",
      "[E::bam_parse_basemod] Insufficient number of entries in ML tag\n",
      "[E::bam_parse_basemod] Insufficient number of entries in ML tag\n",
      "[E::bam_parse_basemod] Insufficient number of entries in ML tag\n",
      "[E::bam_parse_basemod] Insufficient number of entries in ML tag\n"
     ]
    },
    {
     "name": "stdout",
     "output_type": "stream",
     "text": [
      "11984\n"
     ]
    },
    {
     "name": "stderr",
     "output_type": "stream",
     "text": [
      "[W::hts_idx_load3] The index file is older than the data file: local/aligned.fiberseq.chr3_trunc.bam.bai\n",
      "[E::bam_parse_basemod] Insufficient number of entries in ML tag\n",
      "[E::bam_parse_basemod] Insufficient number of entries in ML tag\n",
      "[E::bam_parse_basemod] Insufficient number of entries in ML tag\n",
      "[E::bam_parse_basemod] Insufficient number of entries in ML tag\n",
      "[E::bam_parse_basemod] Insufficient number of entries in ML tag\n"
     ]
    },
    {
     "name": "stdout",
     "output_type": "stream",
     "text": [
      "11985\n"
     ]
    },
    {
     "name": "stderr",
     "output_type": "stream",
     "text": [
      "[W::hts_idx_load3] The index file is older than the data file: local/aligned.fiberseq.chr3_trunc.bam.bai\n",
      "[E::bam_parse_basemod] Insufficient number of entries in ML tag\n",
      "[E::bam_parse_basemod] Insufficient number of entries in ML tag\n",
      "[E::bam_parse_basemod] Insufficient number of entries in ML tag\n",
      "[E::bam_parse_basemod] Insufficient number of entries in ML tag\n",
      "[E::bam_parse_basemod] Insufficient number of entries in ML tag\n"
     ]
    },
    {
     "name": "stdout",
     "output_type": "stream",
     "text": [
      "11986\n"
     ]
    },
    {
     "name": "stderr",
     "output_type": "stream",
     "text": [
      "[W::hts_idx_load3] The index file is older than the data file: local/aligned.fiberseq.chr3_trunc.bam.bai\n",
      "[E::bam_parse_basemod] Insufficient number of entries in ML tag\n",
      "[E::bam_parse_basemod] Insufficient number of entries in ML tag\n",
      "[E::bam_parse_basemod] Insufficient number of entries in ML tag\n",
      "[E::bam_parse_basemod] Insufficient number of entries in ML tag\n",
      "[E::bam_parse_basemod] Insufficient number of entries in ML tag\n",
      "[E::bam_parse_basemod] Insufficient number of entries in ML tag\n"
     ]
    },
    {
     "name": "stdout",
     "output_type": "stream",
     "text": [
      "11987\n"
     ]
    },
    {
     "name": "stderr",
     "output_type": "stream",
     "text": [
      "[W::hts_idx_load3] The index file is older than the data file: local/aligned.fiberseq.chr3_trunc.bam.bai\n",
      "[E::bam_parse_basemod] Insufficient number of entries in ML tag\n",
      "[E::bam_parse_basemod] Insufficient number of entries in ML tag\n",
      "[E::bam_parse_basemod] Insufficient number of entries in ML tag\n",
      "[E::bam_parse_basemod] Insufficient number of entries in ML tag\n",
      "[E::bam_parse_basemod] Insufficient number of entries in ML tag\n",
      "[E::bam_parse_basemod] Insufficient number of entries in ML tag\n",
      "[E::bam_parse_basemod] Insufficient number of entries in ML tag\n",
      "[E::bam_parse_basemod] Insufficient number of entries in ML tag\n"
     ]
    },
    {
     "name": "stdout",
     "output_type": "stream",
     "text": [
      "11988\n"
     ]
    },
    {
     "name": "stderr",
     "output_type": "stream",
     "text": [
      "[W::hts_idx_load3] The index file is older than the data file: local/aligned.fiberseq.chr3_trunc.bam.bai\n",
      "[E::bam_parse_basemod] Insufficient number of entries in ML tag\n",
      "[E::bam_parse_basemod] Insufficient number of entries in ML tag\n",
      "[E::bam_parse_basemod] Insufficient number of entries in ML tag\n",
      "[E::bam_parse_basemod] Insufficient number of entries in ML tag\n",
      "[E::bam_parse_basemod] Insufficient number of entries in ML tag\n",
      "[E::bam_parse_basemod] Insufficient number of entries in ML tag\n",
      "[E::bam_parse_basemod] Insufficient number of entries in ML tag\n",
      "[E::bam_parse_basemod] Insufficient number of entries in ML tag\n"
     ]
    },
    {
     "name": "stdout",
     "output_type": "stream",
     "text": [
      "11989\n"
     ]
    },
    {
     "name": "stderr",
     "output_type": "stream",
     "text": [
      "[W::hts_idx_load3] The index file is older than the data file: local/aligned.fiberseq.chr3_trunc.bam.bai\n",
      "[E::bam_parse_basemod] Insufficient number of entries in ML tag\n",
      "[E::bam_parse_basemod] Insufficient number of entries in ML tag\n",
      "[E::bam_parse_basemod] Insufficient number of entries in ML tag\n",
      "[E::bam_parse_basemod] Insufficient number of entries in ML tag\n"
     ]
    },
    {
     "name": "stdout",
     "output_type": "stream",
     "text": [
      "11990\n"
     ]
    },
    {
     "name": "stderr",
     "output_type": "stream",
     "text": [
      "[W::hts_idx_load3] The index file is older than the data file: local/aligned.fiberseq.chr3_trunc.bam.bai\n",
      "[E::bam_parse_basemod] Insufficient number of entries in ML tag\n",
      "[E::bam_parse_basemod] Insufficient number of entries in ML tag\n",
      "[E::bam_parse_basemod] Insufficient number of entries in ML tag\n",
      "[E::bam_parse_basemod] Insufficient number of entries in ML tag\n",
      "[E::bam_parse_basemod] Insufficient number of entries in ML tag\n"
     ]
    },
    {
     "name": "stdout",
     "output_type": "stream",
     "text": [
      "11991\n"
     ]
    },
    {
     "name": "stderr",
     "output_type": "stream",
     "text": [
      "[W::hts_idx_load3] The index file is older than the data file: local/aligned.fiberseq.chr3_trunc.bam.bai\n",
      "[E::bam_parse_basemod] Insufficient number of entries in ML tag\n",
      "[E::bam_parse_basemod] Insufficient number of entries in ML tag\n",
      "[E::bam_parse_basemod] Insufficient number of entries in ML tag\n",
      "[E::bam_parse_basemod] Insufficient number of entries in ML tag\n",
      "[E::bam_parse_basemod] Insufficient number of entries in ML tag\n",
      "[E::bam_parse_basemod] Insufficient number of entries in ML tag\n",
      "[E::bam_parse_basemod] Insufficient number of entries in ML tag\n",
      "[E::bam_parse_basemod] Insufficient number of entries in ML tag\n"
     ]
    },
    {
     "name": "stdout",
     "output_type": "stream",
     "text": [
      "11992\n"
     ]
    },
    {
     "name": "stderr",
     "output_type": "stream",
     "text": [
      "[W::hts_idx_load3] The index file is older than the data file: local/aligned.fiberseq.chr3_trunc.bam.bai\n",
      "[E::bam_parse_basemod] Insufficient number of entries in ML tag\n",
      "[E::bam_parse_basemod] Insufficient number of entries in ML tag\n",
      "[E::bam_parse_basemod] Insufficient number of entries in ML tag\n",
      "[E::bam_parse_basemod] Insufficient number of entries in ML tag\n",
      "[E::bam_parse_basemod] Insufficient number of entries in ML tag\n",
      "[E::bam_parse_basemod] Insufficient number of entries in ML tag\n",
      "[E::bam_parse_basemod] Insufficient number of entries in ML tag\n",
      "[E::bam_parse_basemod] Insufficient number of entries in ML tag\n"
     ]
    },
    {
     "name": "stdout",
     "output_type": "stream",
     "text": [
      "11993\n"
     ]
    },
    {
     "name": "stderr",
     "output_type": "stream",
     "text": [
      "[W::hts_idx_load3] The index file is older than the data file: local/aligned.fiberseq.chr3_trunc.bam.bai\n",
      "[E::bam_parse_basemod] Insufficient number of entries in ML tag\n",
      "[E::bam_parse_basemod] Insufficient number of entries in ML tag\n",
      "[E::bam_parse_basemod] Insufficient number of entries in ML tag\n",
      "[E::bam_parse_basemod] Insufficient number of entries in ML tag\n",
      "[E::bam_parse_basemod] Insufficient number of entries in ML tag\n",
      "[E::bam_parse_basemod] Insufficient number of entries in ML tag\n",
      "[E::bam_parse_basemod] Insufficient number of entries in ML tag\n",
      "[E::bam_parse_basemod] Insufficient number of entries in ML tag\n",
      "[E::bam_parse_basemod] Insufficient number of entries in ML tag\n",
      "[E::bam_parse_basemod] Insufficient number of entries in ML tag\n",
      "[E::bam_parse_basemod] Insufficient number of entries in ML tag\n"
     ]
    },
    {
     "name": "stdout",
     "output_type": "stream",
     "text": [
      "11994\n"
     ]
    },
    {
     "name": "stderr",
     "output_type": "stream",
     "text": [
      "[W::hts_idx_load3] The index file is older than the data file: local/aligned.fiberseq.chr3_trunc.bam.bai\n",
      "[E::bam_parse_basemod] Insufficient number of entries in ML tag\n",
      "[E::bam_parse_basemod] Insufficient number of entries in ML tag\n",
      "[E::bam_parse_basemod] Insufficient number of entries in ML tag\n",
      "[E::bam_parse_basemod] Insufficient number of entries in ML tag\n",
      "[E::bam_parse_basemod] Insufficient number of entries in ML tag\n",
      "[E::bam_parse_basemod] Insufficient number of entries in ML tag\n",
      "[E::bam_parse_basemod] Insufficient number of entries in ML tag\n",
      "[E::bam_parse_basemod] Insufficient number of entries in ML tag\n"
     ]
    },
    {
     "name": "stdout",
     "output_type": "stream",
     "text": [
      "11995\n"
     ]
    },
    {
     "name": "stderr",
     "output_type": "stream",
     "text": [
      "[W::hts_idx_load3] The index file is older than the data file: local/aligned.fiberseq.chr3_trunc.bam.bai\n",
      "[E::bam_parse_basemod] Insufficient number of entries in ML tag\n",
      "[E::bam_parse_basemod] Insufficient number of entries in ML tag\n",
      "[E::bam_parse_basemod] Insufficient number of entries in ML tag\n",
      "[E::bam_parse_basemod] Insufficient number of entries in ML tag\n",
      "[E::bam_parse_basemod] Insufficient number of entries in ML tag\n",
      "[E::bam_parse_basemod] Insufficient number of entries in ML tag\n",
      "[E::bam_parse_basemod] Insufficient number of entries in ML tag\n",
      "[E::bam_parse_basemod] Insufficient number of entries in ML tag\n",
      "[E::bam_parse_basemod] Insufficient number of entries in ML tag\n"
     ]
    },
    {
     "name": "stdout",
     "output_type": "stream",
     "text": [
      "11996\n"
     ]
    },
    {
     "name": "stderr",
     "output_type": "stream",
     "text": [
      "[W::hts_idx_load3] The index file is older than the data file: local/aligned.fiberseq.chr3_trunc.bam.bai\n",
      "[E::bam_parse_basemod] Insufficient number of entries in ML tag\n",
      "[E::bam_parse_basemod] Insufficient number of entries in ML tag\n",
      "[E::bam_parse_basemod] Insufficient number of entries in ML tag\n",
      "[E::bam_parse_basemod] Insufficient number of entries in ML tag\n",
      "[E::bam_parse_basemod] Insufficient number of entries in ML tag\n"
     ]
    },
    {
     "name": "stdout",
     "output_type": "stream",
     "text": [
      "11997\n"
     ]
    },
    {
     "name": "stderr",
     "output_type": "stream",
     "text": [
      "[W::hts_idx_load3] The index file is older than the data file: local/aligned.fiberseq.chr3_trunc.bam.bai\n",
      "[E::bam_parse_basemod] Insufficient number of entries in ML tag\n",
      "[E::bam_parse_basemod] Insufficient number of entries in ML tag\n",
      "[E::bam_parse_basemod] Insufficient number of entries in ML tag\n",
      "[E::bam_parse_basemod] Insufficient number of entries in ML tag\n",
      "[E::bam_parse_basemod] Insufficient number of entries in ML tag\n"
     ]
    },
    {
     "name": "stdout",
     "output_type": "stream",
     "text": [
      "11998\n"
     ]
    },
    {
     "name": "stderr",
     "output_type": "stream",
     "text": [
      "[W::hts_idx_load3] The index file is older than the data file: local/aligned.fiberseq.chr3_trunc.bam.bai\n",
      "[E::bam_parse_basemod] Insufficient number of entries in ML tag\n",
      "[E::bam_parse_basemod] Insufficient number of entries in ML tag\n",
      "[E::bam_parse_basemod] Insufficient number of entries in ML tag\n",
      "[E::bam_parse_basemod] Insufficient number of entries in ML tag\n",
      "[E::bam_parse_basemod] Insufficient number of entries in ML tag\n"
     ]
    },
    {
     "name": "stdout",
     "output_type": "stream",
     "text": [
      "11999\n"
     ]
    },
    {
     "name": "stderr",
     "output_type": "stream",
     "text": [
      "[W::hts_idx_load3] The index file is older than the data file: local/aligned.fiberseq.chr3_trunc.bam.bai\n",
      "[E::bam_parse_basemod] Insufficient number of entries in ML tag\n",
      "[E::bam_parse_basemod] Insufficient number of entries in ML tag\n",
      "[E::bam_parse_basemod] Insufficient number of entries in ML tag\n"
     ]
    },
    {
     "name": "stdout",
     "output_type": "stream",
     "text": [
      "12000\n"
     ]
    },
    {
     "name": "stderr",
     "output_type": "stream",
     "text": [
      "[W::hts_idx_load3] The index file is older than the data file: local/aligned.fiberseq.chr3_trunc.bam.bai\n",
      "[E::bam_parse_basemod] Insufficient number of entries in ML tag\n",
      "[E::bam_parse_basemod] Insufficient number of entries in ML tag\n",
      "[E::bam_parse_basemod] Insufficient number of entries in ML tag\n",
      "[E::bam_parse_basemod] Insufficient number of entries in ML tag\n"
     ]
    },
    {
     "name": "stdout",
     "output_type": "stream",
     "text": [
      "12001\n"
     ]
    },
    {
     "name": "stderr",
     "output_type": "stream",
     "text": [
      "[W::hts_idx_load3] The index file is older than the data file: local/aligned.fiberseq.chr3_trunc.bam.bai\n",
      "[E::bam_parse_basemod] Insufficient number of entries in ML tag\n",
      "[E::bam_parse_basemod] Insufficient number of entries in ML tag\n",
      "[E::bam_parse_basemod] Insufficient number of entries in ML tag\n",
      "[E::bam_parse_basemod] Insufficient number of entries in ML tag\n"
     ]
    },
    {
     "name": "stdout",
     "output_type": "stream",
     "text": [
      "12002\n"
     ]
    },
    {
     "name": "stderr",
     "output_type": "stream",
     "text": [
      "[W::hts_idx_load3] The index file is older than the data file: local/aligned.fiberseq.chr3_trunc.bam.bai\n",
      "[E::bam_parse_basemod] Insufficient number of entries in ML tag\n",
      "[E::bam_parse_basemod] Insufficient number of entries in ML tag\n",
      "[E::bam_parse_basemod] Insufficient number of entries in ML tag\n",
      "[E::bam_parse_basemod] Insufficient number of entries in ML tag\n"
     ]
    },
    {
     "name": "stdout",
     "output_type": "stream",
     "text": [
      "12003\n"
     ]
    },
    {
     "name": "stderr",
     "output_type": "stream",
     "text": [
      "[W::hts_idx_load3] The index file is older than the data file: local/aligned.fiberseq.chr3_trunc.bam.bai\n",
      "[E::bam_parse_basemod] Insufficient number of entries in ML tag\n",
      "[E::bam_parse_basemod] Insufficient number of entries in ML tag\n",
      "[E::bam_parse_basemod] Insufficient number of entries in ML tag\n"
     ]
    },
    {
     "name": "stdout",
     "output_type": "stream",
     "text": [
      "12004\n"
     ]
    },
    {
     "name": "stderr",
     "output_type": "stream",
     "text": [
      "[W::hts_idx_load3] The index file is older than the data file: local/aligned.fiberseq.chr3_trunc.bam.bai\n",
      "[E::bam_parse_basemod] Insufficient number of entries in ML tag\n",
      "[E::bam_parse_basemod] Insufficient number of entries in ML tag\n",
      "[E::bam_parse_basemod] Insufficient number of entries in ML tag\n",
      "[E::bam_parse_basemod] Insufficient number of entries in ML tag\n"
     ]
    },
    {
     "name": "stdout",
     "output_type": "stream",
     "text": [
      "12005\n"
     ]
    },
    {
     "name": "stderr",
     "output_type": "stream",
     "text": [
      "[W::hts_idx_load3] The index file is older than the data file: local/aligned.fiberseq.chr3_trunc.bam.bai\n",
      "[E::bam_parse_basemod] Insufficient number of entries in ML tag\n",
      "[E::bam_parse_basemod] Insufficient number of entries in ML tag\n",
      "[E::bam_parse_basemod] Insufficient number of entries in ML tag\n",
      "[E::bam_parse_basemod] Insufficient number of entries in ML tag\n",
      "[E::bam_parse_basemod] Insufficient number of entries in ML tag\n",
      "[E::bam_parse_basemod] Insufficient number of entries in ML tag\n"
     ]
    },
    {
     "name": "stdout",
     "output_type": "stream",
     "text": [
      "12006\n"
     ]
    },
    {
     "name": "stderr",
     "output_type": "stream",
     "text": [
      "[W::hts_idx_load3] The index file is older than the data file: local/aligned.fiberseq.chr3_trunc.bam.bai\n",
      "[E::bam_parse_basemod] Insufficient number of entries in ML tag\n",
      "[E::bam_parse_basemod] Insufficient number of entries in ML tag\n",
      "[E::bam_parse_basemod] Insufficient number of entries in ML tag\n",
      "[E::bam_parse_basemod] Insufficient number of entries in ML tag\n",
      "[E::bam_parse_basemod] Insufficient number of entries in ML tag\n",
      "[E::bam_parse_basemod] Insufficient number of entries in ML tag\n"
     ]
    },
    {
     "name": "stdout",
     "output_type": "stream",
     "text": [
      "12007\n"
     ]
    },
    {
     "name": "stderr",
     "output_type": "stream",
     "text": [
      "[W::hts_idx_load3] The index file is older than the data file: local/aligned.fiberseq.chr3_trunc.bam.bai\n",
      "[E::bam_parse_basemod] Insufficient number of entries in ML tag\n",
      "[E::bam_parse_basemod] Insufficient number of entries in ML tag\n",
      "[E::bam_parse_basemod] Insufficient number of entries in ML tag\n",
      "[E::bam_parse_basemod] Insufficient number of entries in ML tag\n",
      "[E::bam_parse_basemod] Insufficient number of entries in ML tag\n"
     ]
    },
    {
     "name": "stdout",
     "output_type": "stream",
     "text": [
      "12008\n"
     ]
    },
    {
     "name": "stderr",
     "output_type": "stream",
     "text": [
      "[W::hts_idx_load3] The index file is older than the data file: local/aligned.fiberseq.chr3_trunc.bam.bai\n",
      "[E::bam_parse_basemod] Insufficient number of entries in ML tag\n",
      "[E::bam_parse_basemod] Insufficient number of entries in ML tag\n",
      "[E::bam_parse_basemod] Insufficient number of entries in ML tag\n",
      "[E::bam_parse_basemod] Insufficient number of entries in ML tag\n",
      "[E::bam_parse_basemod] Insufficient number of entries in ML tag\n"
     ]
    },
    {
     "name": "stdout",
     "output_type": "stream",
     "text": [
      "12009\n"
     ]
    },
    {
     "name": "stderr",
     "output_type": "stream",
     "text": [
      "[W::hts_idx_load3] The index file is older than the data file: local/aligned.fiberseq.chr3_trunc.bam.bai\n",
      "[E::bam_parse_basemod] Insufficient number of entries in ML tag\n",
      "[E::bam_parse_basemod] Insufficient number of entries in ML tag\n",
      "[E::bam_parse_basemod] Insufficient number of entries in ML tag\n",
      "[E::bam_parse_basemod] Insufficient number of entries in ML tag\n",
      "[E::bam_parse_basemod] Insufficient number of entries in ML tag\n"
     ]
    },
    {
     "name": "stdout",
     "output_type": "stream",
     "text": [
      "12010\n"
     ]
    },
    {
     "name": "stderr",
     "output_type": "stream",
     "text": [
      "[W::hts_idx_load3] The index file is older than the data file: local/aligned.fiberseq.chr3_trunc.bam.bai\n",
      "[E::bam_parse_basemod] Insufficient number of entries in ML tag\n",
      "[E::bam_parse_basemod] Insufficient number of entries in ML tag\n",
      "[E::bam_parse_basemod] Insufficient number of entries in ML tag\n",
      "[E::bam_parse_basemod] Insufficient number of entries in ML tag\n",
      "[E::bam_parse_basemod] Insufficient number of entries in ML tag\n"
     ]
    },
    {
     "name": "stdout",
     "output_type": "stream",
     "text": [
      "12011\n"
     ]
    },
    {
     "name": "stderr",
     "output_type": "stream",
     "text": [
      "[W::hts_idx_load3] The index file is older than the data file: local/aligned.fiberseq.chr3_trunc.bam.bai\n",
      "[E::bam_parse_basemod] Insufficient number of entries in ML tag\n",
      "[E::bam_parse_basemod] Insufficient number of entries in ML tag\n"
     ]
    },
    {
     "name": "stdout",
     "output_type": "stream",
     "text": [
      "12012\n"
     ]
    },
    {
     "name": "stderr",
     "output_type": "stream",
     "text": [
      "[W::hts_idx_load3] The index file is older than the data file: local/aligned.fiberseq.chr3_trunc.bam.bai\n",
      "[E::bam_parse_basemod] Insufficient number of entries in ML tag\n",
      "[E::bam_parse_basemod] Insufficient number of entries in ML tag\n",
      "[E::bam_parse_basemod] Insufficient number of entries in ML tag\n",
      "[E::bam_parse_basemod] Insufficient number of entries in ML tag\n"
     ]
    },
    {
     "name": "stdout",
     "output_type": "stream",
     "text": [
      "12013\n"
     ]
    },
    {
     "name": "stderr",
     "output_type": "stream",
     "text": [
      "[W::hts_idx_load3] The index file is older than the data file: local/aligned.fiberseq.chr3_trunc.bam.bai\n",
      "[E::bam_parse_basemod] Insufficient number of entries in ML tag\n",
      "[E::bam_parse_basemod] Insufficient number of entries in ML tag\n",
      "[E::bam_parse_basemod] Insufficient number of entries in ML tag\n",
      "[E::bam_parse_basemod] Insufficient number of entries in ML tag\n"
     ]
    },
    {
     "name": "stdout",
     "output_type": "stream",
     "text": [
      "12014\n"
     ]
    },
    {
     "name": "stderr",
     "output_type": "stream",
     "text": [
      "[W::hts_idx_load3] The index file is older than the data file: local/aligned.fiberseq.chr3_trunc.bam.bai\n",
      "[E::bam_parse_basemod] Insufficient number of entries in ML tag\n",
      "[E::bam_parse_basemod] Insufficient number of entries in ML tag\n",
      "[E::bam_parse_basemod] Insufficient number of entries in ML tag\n"
     ]
    },
    {
     "name": "stdout",
     "output_type": "stream",
     "text": [
      "12015\n"
     ]
    },
    {
     "name": "stderr",
     "output_type": "stream",
     "text": [
      "[W::hts_idx_load3] The index file is older than the data file: local/aligned.fiberseq.chr3_trunc.bam.bai\n",
      "[E::bam_parse_basemod] Insufficient number of entries in ML tag\n",
      "[E::bam_parse_basemod] Insufficient number of entries in ML tag\n",
      "[E::bam_parse_basemod] Insufficient number of entries in ML tag\n"
     ]
    },
    {
     "name": "stdout",
     "output_type": "stream",
     "text": [
      "12016\n"
     ]
    },
    {
     "name": "stderr",
     "output_type": "stream",
     "text": [
      "[W::hts_idx_load3] The index file is older than the data file: local/aligned.fiberseq.chr3_trunc.bam.bai\n",
      "[E::bam_parse_basemod] Insufficient number of entries in ML tag\n",
      "[E::bam_parse_basemod] Insufficient number of entries in ML tag\n",
      "[E::bam_parse_basemod] Insufficient number of entries in ML tag\n"
     ]
    },
    {
     "name": "stdout",
     "output_type": "stream",
     "text": [
      "12017\n"
     ]
    },
    {
     "name": "stderr",
     "output_type": "stream",
     "text": [
      "[W::hts_idx_load3] The index file is older than the data file: local/aligned.fiberseq.chr3_trunc.bam.bai\n",
      "[E::bam_parse_basemod] Insufficient number of entries in ML tag\n",
      "[E::bam_parse_basemod] Insufficient number of entries in ML tag\n",
      "[E::bam_parse_basemod] Insufficient number of entries in ML tag\n"
     ]
    },
    {
     "name": "stdout",
     "output_type": "stream",
     "text": [
      "12018\n"
     ]
    },
    {
     "name": "stderr",
     "output_type": "stream",
     "text": [
      "[W::hts_idx_load3] The index file is older than the data file: local/aligned.fiberseq.chr3_trunc.bam.bai\n",
      "[E::bam_parse_basemod] Insufficient number of entries in ML tag\n",
      "[E::bam_parse_basemod] Insufficient number of entries in ML tag\n",
      "[E::bam_parse_basemod] Insufficient number of entries in ML tag\n",
      "[E::bam_parse_basemod] Insufficient number of entries in ML tag\n"
     ]
    },
    {
     "name": "stdout",
     "output_type": "stream",
     "text": [
      "12019\n"
     ]
    },
    {
     "name": "stderr",
     "output_type": "stream",
     "text": [
      "[W::hts_idx_load3] The index file is older than the data file: local/aligned.fiberseq.chr3_trunc.bam.bai\n",
      "[E::bam_parse_basemod] Insufficient number of entries in ML tag\n",
      "[E::bam_parse_basemod] Insufficient number of entries in ML tag\n",
      "[E::bam_parse_basemod] Insufficient number of entries in ML tag\n",
      "[E::bam_parse_basemod] Insufficient number of entries in ML tag\n"
     ]
    },
    {
     "name": "stdout",
     "output_type": "stream",
     "text": [
      "12020\n"
     ]
    },
    {
     "name": "stderr",
     "output_type": "stream",
     "text": [
      "[W::hts_idx_load3] The index file is older than the data file: local/aligned.fiberseq.chr3_trunc.bam.bai\n",
      "[E::bam_parse_basemod] Insufficient number of entries in ML tag\n",
      "[E::bam_parse_basemod] Insufficient number of entries in ML tag\n",
      "[E::bam_parse_basemod] Insufficient number of entries in ML tag\n",
      "[E::bam_parse_basemod] Insufficient number of entries in ML tag\n"
     ]
    },
    {
     "name": "stdout",
     "output_type": "stream",
     "text": [
      "12021\n"
     ]
    },
    {
     "name": "stderr",
     "output_type": "stream",
     "text": [
      "[W::hts_idx_load3] The index file is older than the data file: local/aligned.fiberseq.chr3_trunc.bam.bai\n",
      "[E::bam_parse_basemod] Insufficient number of entries in ML tag\n",
      "[E::bam_parse_basemod] Insufficient number of entries in ML tag\n",
      "[E::bam_parse_basemod] Insufficient number of entries in ML tag\n"
     ]
    },
    {
     "name": "stdout",
     "output_type": "stream",
     "text": [
      "12022\n"
     ]
    },
    {
     "name": "stderr",
     "output_type": "stream",
     "text": [
      "[W::hts_idx_load3] The index file is older than the data file: local/aligned.fiberseq.chr3_trunc.bam.bai\n",
      "[E::bam_parse_basemod] Insufficient number of entries in ML tag\n",
      "[E::bam_parse_basemod] Insufficient number of entries in ML tag\n",
      "[E::bam_parse_basemod] Insufficient number of entries in ML tag\n"
     ]
    },
    {
     "name": "stdout",
     "output_type": "stream",
     "text": [
      "12023\n"
     ]
    },
    {
     "name": "stderr",
     "output_type": "stream",
     "text": [
      "[W::hts_idx_load3] The index file is older than the data file: local/aligned.fiberseq.chr3_trunc.bam.bai\n",
      "[E::bam_parse_basemod] Insufficient number of entries in ML tag\n",
      "[E::bam_parse_basemod] Insufficient number of entries in ML tag\n",
      "[E::bam_parse_basemod] Insufficient number of entries in ML tag\n"
     ]
    },
    {
     "name": "stdout",
     "output_type": "stream",
     "text": [
      "12024\n"
     ]
    },
    {
     "name": "stderr",
     "output_type": "stream",
     "text": [
      "[W::hts_idx_load3] The index file is older than the data file: local/aligned.fiberseq.chr3_trunc.bam.bai\n",
      "[E::bam_parse_basemod] Insufficient number of entries in ML tag\n",
      "[E::bam_parse_basemod] Insufficient number of entries in ML tag\n",
      "[E::bam_parse_basemod] Insufficient number of entries in ML tag\n",
      "[E::bam_parse_basemod] Insufficient number of entries in ML tag\n",
      "[E::bam_parse_basemod] Insufficient number of entries in ML tag\n",
      "[E::bam_parse_basemod] Insufficient number of entries in ML tag\n"
     ]
    },
    {
     "name": "stdout",
     "output_type": "stream",
     "text": [
      "12025\n"
     ]
    },
    {
     "name": "stderr",
     "output_type": "stream",
     "text": [
      "[W::hts_idx_load3] The index file is older than the data file: local/aligned.fiberseq.chr3_trunc.bam.bai\n",
      "[E::bam_parse_basemod] Insufficient number of entries in ML tag\n",
      "[E::bam_parse_basemod] Insufficient number of entries in ML tag\n",
      "[E::bam_parse_basemod] Insufficient number of entries in ML tag\n",
      "[E::bam_parse_basemod] Insufficient number of entries in ML tag\n",
      "[E::bam_parse_basemod] Insufficient number of entries in ML tag\n",
      "[E::bam_parse_basemod] Insufficient number of entries in ML tag\n"
     ]
    },
    {
     "name": "stdout",
     "output_type": "stream",
     "text": [
      "12026\n"
     ]
    },
    {
     "name": "stderr",
     "output_type": "stream",
     "text": [
      "[W::hts_idx_load3] The index file is older than the data file: local/aligned.fiberseq.chr3_trunc.bam.bai\n",
      "[E::bam_parse_basemod] Insufficient number of entries in ML tag\n",
      "[E::bam_parse_basemod] Insufficient number of entries in ML tag\n",
      "[E::bam_parse_basemod] Insufficient number of entries in ML tag\n",
      "[E::bam_parse_basemod] Insufficient number of entries in ML tag\n",
      "[E::bam_parse_basemod] Insufficient number of entries in ML tag\n"
     ]
    },
    {
     "name": "stdout",
     "output_type": "stream",
     "text": [
      "12027\n"
     ]
    },
    {
     "name": "stderr",
     "output_type": "stream",
     "text": [
      "[W::hts_idx_load3] The index file is older than the data file: local/aligned.fiberseq.chr3_trunc.bam.bai\n",
      "[E::bam_parse_basemod] Insufficient number of entries in ML tag\n",
      "[E::bam_parse_basemod] Insufficient number of entries in ML tag\n",
      "[E::bam_parse_basemod] Insufficient number of entries in ML tag\n",
      "[E::bam_parse_basemod] Insufficient number of entries in ML tag\n",
      "[E::bam_parse_basemod] Insufficient number of entries in ML tag\n"
     ]
    },
    {
     "name": "stdout",
     "output_type": "stream",
     "text": [
      "12028\n"
     ]
    },
    {
     "name": "stderr",
     "output_type": "stream",
     "text": [
      "[W::hts_idx_load3] The index file is older than the data file: local/aligned.fiberseq.chr3_trunc.bam.bai\n",
      "[E::bam_parse_basemod] Insufficient number of entries in ML tag\n",
      "[E::bam_parse_basemod] Insufficient number of entries in ML tag\n",
      "[E::bam_parse_basemod] Insufficient number of entries in ML tag\n"
     ]
    },
    {
     "name": "stdout",
     "output_type": "stream",
     "text": [
      "12029\n"
     ]
    },
    {
     "name": "stderr",
     "output_type": "stream",
     "text": [
      "[W::hts_idx_load3] The index file is older than the data file: local/aligned.fiberseq.chr3_trunc.bam.bai\n",
      "[E::bam_parse_basemod] Insufficient number of entries in ML tag\n",
      "[E::bam_parse_basemod] Insufficient number of entries in ML tag\n",
      "[E::bam_parse_basemod] Insufficient number of entries in ML tag\n"
     ]
    },
    {
     "name": "stdout",
     "output_type": "stream",
     "text": [
      "12030\n"
     ]
    },
    {
     "name": "stderr",
     "output_type": "stream",
     "text": [
      "[W::hts_idx_load3] The index file is older than the data file: local/aligned.fiberseq.chr3_trunc.bam.bai\n",
      "[E::bam_parse_basemod] Insufficient number of entries in ML tag\n",
      "[E::bam_parse_basemod] Insufficient number of entries in ML tag\n",
      "[E::bam_parse_basemod] Insufficient number of entries in ML tag\n"
     ]
    },
    {
     "name": "stdout",
     "output_type": "stream",
     "text": [
      "12031\n"
     ]
    },
    {
     "name": "stderr",
     "output_type": "stream",
     "text": [
      "[W::hts_idx_load3] The index file is older than the data file: local/aligned.fiberseq.chr3_trunc.bam.bai\n",
      "[E::bam_parse_basemod] Insufficient number of entries in ML tag\n",
      "[E::bam_parse_basemod] Insufficient number of entries in ML tag\n",
      "[E::bam_parse_basemod] Insufficient number of entries in ML tag\n",
      "[E::bam_parse_basemod] Insufficient number of entries in ML tag\n"
     ]
    },
    {
     "name": "stdout",
     "output_type": "stream",
     "text": [
      "12032\n"
     ]
    },
    {
     "name": "stderr",
     "output_type": "stream",
     "text": [
      "[W::hts_idx_load3] The index file is older than the data file: local/aligned.fiberseq.chr3_trunc.bam.bai\n",
      "[E::bam_parse_basemod] Insufficient number of entries in ML tag\n",
      "[E::bam_parse_basemod] Insufficient number of entries in ML tag\n"
     ]
    },
    {
     "name": "stdout",
     "output_type": "stream",
     "text": [
      "12033\n"
     ]
    },
    {
     "name": "stderr",
     "output_type": "stream",
     "text": [
      "[W::hts_idx_load3] The index file is older than the data file: local/aligned.fiberseq.chr3_trunc.bam.bai\n",
      "[E::bam_parse_basemod] Insufficient number of entries in ML tag\n",
      "[E::bam_parse_basemod] Insufficient number of entries in ML tag\n"
     ]
    },
    {
     "name": "stdout",
     "output_type": "stream",
     "text": [
      "12034\n"
     ]
    },
    {
     "name": "stderr",
     "output_type": "stream",
     "text": [
      "[W::hts_idx_load3] The index file is older than the data file: local/aligned.fiberseq.chr3_trunc.bam.bai\n",
      "[E::bam_parse_basemod] Insufficient number of entries in ML tag\n"
     ]
    },
    {
     "name": "stdout",
     "output_type": "stream",
     "text": [
      "12035\n"
     ]
    },
    {
     "name": "stderr",
     "output_type": "stream",
     "text": [
      "[W::hts_idx_load3] The index file is older than the data file: local/aligned.fiberseq.chr3_trunc.bam.bai\n",
      "[E::bam_parse_basemod] Insufficient number of entries in ML tag\n"
     ]
    },
    {
     "name": "stdout",
     "output_type": "stream",
     "text": [
      "12036\n"
     ]
    },
    {
     "name": "stderr",
     "output_type": "stream",
     "text": [
      "[W::hts_idx_load3] The index file is older than the data file: local/aligned.fiberseq.chr3_trunc.bam.bai\n",
      "[E::bam_parse_basemod] Insufficient number of entries in ML tag\n"
     ]
    },
    {
     "name": "stdout",
     "output_type": "stream",
     "text": [
      "12037\n"
     ]
    },
    {
     "name": "stderr",
     "output_type": "stream",
     "text": [
      "[W::hts_idx_load3] The index file is older than the data file: local/aligned.fiberseq.chr3_trunc.bam.bai\n",
      "[E::bam_parse_basemod] Insufficient number of entries in ML tag\n"
     ]
    },
    {
     "name": "stdout",
     "output_type": "stream",
     "text": [
      "12038\n"
     ]
    },
    {
     "name": "stderr",
     "output_type": "stream",
     "text": [
      "[W::hts_idx_load3] The index file is older than the data file: local/aligned.fiberseq.chr3_trunc.bam.bai\n",
      "[E::bam_parse_basemod] Insufficient number of entries in ML tag\n",
      "[E::bam_parse_basemod] Insufficient number of entries in ML tag\n"
     ]
    },
    {
     "name": "stdout",
     "output_type": "stream",
     "text": [
      "12039\n"
     ]
    },
    {
     "name": "stderr",
     "output_type": "stream",
     "text": [
      "[W::hts_idx_load3] The index file is older than the data file: local/aligned.fiberseq.chr3_trunc.bam.bai\n",
      "[E::bam_parse_basemod] Insufficient number of entries in ML tag\n",
      "[E::bam_parse_basemod] Insufficient number of entries in ML tag\n",
      "[E::bam_parse_basemod] Insufficient number of entries in ML tag\n",
      "[E::bam_parse_basemod] Insufficient number of entries in ML tag\n",
      "[E::bam_parse_basemod] Insufficient number of entries in ML tag\n"
     ]
    },
    {
     "name": "stdout",
     "output_type": "stream",
     "text": [
      "12040\n"
     ]
    },
    {
     "name": "stderr",
     "output_type": "stream",
     "text": [
      "[W::hts_idx_load3] The index file is older than the data file: local/aligned.fiberseq.chr3_trunc.bam.bai\n",
      "[E::bam_parse_basemod] Insufficient number of entries in ML tag\n",
      "[E::bam_parse_basemod] Insufficient number of entries in ML tag\n",
      "[E::bam_parse_basemod] Insufficient number of entries in ML tag\n",
      "[E::bam_parse_basemod] Insufficient number of entries in ML tag\n",
      "[E::bam_parse_basemod] Insufficient number of entries in ML tag\n"
     ]
    },
    {
     "name": "stdout",
     "output_type": "stream",
     "text": [
      "12041\n"
     ]
    },
    {
     "name": "stderr",
     "output_type": "stream",
     "text": [
      "[W::hts_idx_load3] The index file is older than the data file: local/aligned.fiberseq.chr3_trunc.bam.bai\n",
      "[E::bam_parse_basemod] Insufficient number of entries in ML tag\n",
      "[E::bam_parse_basemod] Insufficient number of entries in ML tag\n",
      "[E::bam_parse_basemod] Insufficient number of entries in ML tag\n",
      "[E::bam_parse_basemod] Insufficient number of entries in ML tag\n",
      "[E::bam_parse_basemod] Insufficient number of entries in ML tag\n",
      "[E::bam_parse_basemod] Insufficient number of entries in ML tag\n",
      "[E::bam_parse_basemod] Insufficient number of entries in ML tag\n"
     ]
    },
    {
     "name": "stdout",
     "output_type": "stream",
     "text": [
      "12042\n"
     ]
    },
    {
     "name": "stderr",
     "output_type": "stream",
     "text": [
      "[W::hts_idx_load3] The index file is older than the data file: local/aligned.fiberseq.chr3_trunc.bam.bai\n",
      "[E::bam_parse_basemod] Insufficient number of entries in ML tag\n",
      "[E::bam_parse_basemod] Insufficient number of entries in ML tag\n",
      "[E::bam_parse_basemod] Insufficient number of entries in ML tag\n",
      "[E::bam_parse_basemod] Insufficient number of entries in ML tag\n",
      "[E::bam_parse_basemod] Insufficient number of entries in ML tag\n",
      "[E::bam_parse_basemod] Insufficient number of entries in ML tag\n",
      "[E::bam_parse_basemod] Insufficient number of entries in ML tag\n"
     ]
    },
    {
     "name": "stdout",
     "output_type": "stream",
     "text": [
      "12043\n"
     ]
    },
    {
     "name": "stderr",
     "output_type": "stream",
     "text": [
      "[W::hts_idx_load3] The index file is older than the data file: local/aligned.fiberseq.chr3_trunc.bam.bai\n",
      "[E::bam_parse_basemod] Insufficient number of entries in ML tag\n",
      "[E::bam_parse_basemod] Insufficient number of entries in ML tag\n",
      "[E::bam_parse_basemod] Insufficient number of entries in ML tag\n",
      "[E::bam_parse_basemod] Insufficient number of entries in ML tag\n"
     ]
    },
    {
     "name": "stdout",
     "output_type": "stream",
     "text": [
      "12044\n"
     ]
    },
    {
     "name": "stderr",
     "output_type": "stream",
     "text": [
      "[W::hts_idx_load3] The index file is older than the data file: local/aligned.fiberseq.chr3_trunc.bam.bai\n",
      "[E::bam_parse_basemod] Insufficient number of entries in ML tag\n",
      "[E::bam_parse_basemod] Insufficient number of entries in ML tag\n",
      "[E::bam_parse_basemod] Insufficient number of entries in ML tag\n",
      "[E::bam_parse_basemod] Insufficient number of entries in ML tag\n"
     ]
    },
    {
     "name": "stdout",
     "output_type": "stream",
     "text": [
      "12045\n"
     ]
    },
    {
     "name": "stderr",
     "output_type": "stream",
     "text": [
      "[W::hts_idx_load3] The index file is older than the data file: local/aligned.fiberseq.chr3_trunc.bam.bai\n",
      "[E::bam_parse_basemod] Insufficient number of entries in ML tag\n",
      "[E::bam_parse_basemod] Insufficient number of entries in ML tag\n",
      "[E::bam_parse_basemod] Insufficient number of entries in ML tag\n"
     ]
    },
    {
     "name": "stdout",
     "output_type": "stream",
     "text": [
      "12046\n"
     ]
    },
    {
     "name": "stderr",
     "output_type": "stream",
     "text": [
      "[W::hts_idx_load3] The index file is older than the data file: local/aligned.fiberseq.chr3_trunc.bam.bai\n",
      "[E::bam_parse_basemod] Insufficient number of entries in ML tag\n",
      "[E::bam_parse_basemod] Insufficient number of entries in ML tag\n",
      "[E::bam_parse_basemod] Insufficient number of entries in ML tag\n"
     ]
    },
    {
     "name": "stdout",
     "output_type": "stream",
     "text": [
      "12047\n"
     ]
    },
    {
     "name": "stderr",
     "output_type": "stream",
     "text": [
      "[W::hts_idx_load3] The index file is older than the data file: local/aligned.fiberseq.chr3_trunc.bam.bai\n",
      "[E::bam_parse_basemod] Insufficient number of entries in ML tag\n",
      "[E::bam_parse_basemod] Insufficient number of entries in ML tag\n",
      "[E::bam_parse_basemod] Insufficient number of entries in ML tag\n"
     ]
    },
    {
     "name": "stdout",
     "output_type": "stream",
     "text": [
      "12048\n"
     ]
    },
    {
     "name": "stderr",
     "output_type": "stream",
     "text": [
      "[W::hts_idx_load3] The index file is older than the data file: local/aligned.fiberseq.chr3_trunc.bam.bai\n",
      "[E::bam_parse_basemod] Insufficient number of entries in ML tag\n",
      "[E::bam_parse_basemod] Insufficient number of entries in ML tag\n",
      "[E::bam_parse_basemod] Insufficient number of entries in ML tag\n"
     ]
    },
    {
     "name": "stdout",
     "output_type": "stream",
     "text": [
      "12049\n"
     ]
    },
    {
     "name": "stderr",
     "output_type": "stream",
     "text": [
      "[W::hts_idx_load3] The index file is older than the data file: local/aligned.fiberseq.chr3_trunc.bam.bai\n",
      "[E::bam_parse_basemod] Insufficient number of entries in ML tag\n",
      "[E::bam_parse_basemod] Insufficient number of entries in ML tag\n",
      "/home/morgan/miniconda3/envs/fiber-views/lib/python3.10/site-packages/anndata/_core/anndata.py:121: ImplicitModificationWarning: Transforming to str index.\n",
      "  warnings.warn(\"Transforming to str index.\", ImplicitModificationWarning)\n",
      "/home/morgan/miniconda3/envs/fiber-views/lib/python3.10/site-packages/anndata/_core/anndata.py:121: ImplicitModificationWarning: Transforming to str index.\n",
      "  warnings.warn(\"Transforming to str index.\", ImplicitModificationWarning)\n",
      "/home/morgan/miniconda3/envs/fiber-views/lib/python3.10/site-packages/anndata/_core/anndata.py:1828: UserWarning: Observation names are not unique. To make them unique, call `.obs_names_make_unique`.\n",
      "  utils.warn_names_duplicates(\"obs\")\n"
     ]
    }
   ],
   "source": [
    "fview = fv.FiberView(bamfile, anno_df, window=(-2000, 2000), fully_span=False)"
   ]
  },
  {
   "cell_type": "code",
   "execution_count": 6,
   "id": "50cc0030",
   "metadata": {},
   "outputs": [
    {
     "data": {
      "text/plain": [
       "<AxesSubplot:xlabel='pos'>"
      ]
     },
     "execution_count": 6,
     "metadata": {},
     "output_type": "execute_result"
    }
   ],
   "source": [
    "%matplotlib qt\n",
    "fv.tools.simple_region_plot(fview, mod='m6a')"
   ]
  },
  {
   "cell_type": "code",
   "execution_count": 5,
   "id": "58b39ed8",
   "metadata": {},
   "outputs": [
    {
     "data": {
      "text/plain": [
       "<AxesSubplot:xlabel='pos'>"
      ]
     },
     "execution_count": 5,
     "metadata": {},
     "output_type": "execute_result"
    },
    {
     "data": {
      "image/png": "[encoded data removed]",
      "text/plain": [
       "<Figure size 640x480 with 2 Axes>"
      ]
     },
     "metadata": {},
     "output_type": "display_data"
    }
   ],
   "source": [
    "%matplotlib inline\n",
    "fv.tools.simple_region_plot(fview, mod='m6a')"
   ]
  },
  {
   "cell_type": "code",
   "execution_count": null,
   "id": "3a80894c",
   "metadata": {},
   "outputs": [],
   "source": []
  }
 ],
 "metadata": {
  "kernelspec": {
   "display_name": "Python 3 (ipykernel)",
   "language": "python",
   "name": "python3"
  },
  "language_info": {
   "codemirror_mode": {
    "name": "ipython",
    "version": 3
   },
   "file_extension": ".py",
   "mimetype": "text/x-python",
   "name": "python",
   "nbconvert_exporter": "python",
   "pygments_lexer": "ipython3",
   "version": "3.10.6"
  }
 },
 "nbformat": 4,
 "nbformat_minor": 5
}
